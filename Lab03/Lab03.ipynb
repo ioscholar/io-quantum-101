{
 "cells": [
  {
   "cell_type": "markdown",
   "id": "6ee0ddae",
   "metadata": {},
   "source": [
    "![Welcome IO Quantum 101 Image](../images/WelcomeIOQuantum101Image.png)\n"
   ]
  },
  {
   "cell_type": "markdown",
   "id": "71b1b1ea",
   "metadata": {},
   "source": [
    "# **Lab 03 – Quantum Query Algorithms: The Deutsch–Jozsa Algorithm**"
   ]
  },
  {
   "cell_type": "markdown",
   "id": "48447912",
   "metadata": {},
   "source": [
    "<div style=\"font-family: 'Arial'; font-size: 16px; line-height: 1.6; text-align: justify;\">  \n",
    "It’s great to see you back again at the IO Quantum Summer School in the IO Scholar Community 🙋🏻‍♂️.\n",
    "<br>\n",
    "  \n",
    "It’s wonderful that we’ve equipped ourselves with all the essentials: from installing the necessary packages, exploring superposition and entanglement, to hands-on practice with both single-qubit and multi-qubit systems. We’ve also witnessed how quantum entanglement can be applied in practice through Quantum Teleportation. With this foundation in place, we are now ready to embark on the journey of exploring quantum algorithms – where the true quantum advantage begins to emerge in tackling challenges once thought intractable for classical computers.\n",
    "\n",
    "</div>"
   ]
  },
  {
   "cell_type": "markdown",
   "id": "08417839",
   "metadata": {},
   "source": [
    "## **A friendly little reminder**\n",
    "\n",
    "<div style=\"font-family: 'Arial'; font-size: 16px; line-height: 1.6; text-align: justify;\">   \n",
    "\n",
    "Just as in the previous lab—and in all the labs to come—we’ll be working with Jupyter notebooks. Code snippets will be provided for you, except in certain cells where your task will be to complete the code to ensure our quantum program runs smoothly. These cells will be clearly marked with a comment like: <span style=\"font-family: monospace; font-weight: bold; color: #111; background-color: #fff8dc; padding: 2px 6px; border-radius: 4px;\"> ### WRITE YOUR CODE BELOW THIS CELL ### </span>.\n",
    "\n",
    "Another friendly reminder: we’ll be running our quantum programs exclusively on simulators. No worries—these work perfectly well for our purposes.\n",
    "\n",
    "**Lab 3** focuses on the very first and also the simplest quantum algorithm – **Deutsch Jozsa algorithm**. It is considered a foundational stepping stone for exploring more advanced quantum algorithms. We will begin by revisiting the problem that this algorithm is designed to solve, then construct our own examples of a balanced function and a constant function, and finally apply the algorithm to uncover the answer to the problem.\n",
    "\n",
    "</div>"
   ]
  },
  {
   "cell_type": "markdown",
   "id": "41a7c2b3",
   "metadata": {},
   "source": [
    "## **Pre-checking and Imports**\n"
   ]
  },
  {
   "cell_type": "markdown",
   "id": "19a4c3da",
   "metadata": {},
   "source": [
    "<div style=\"font-family: 'Arial'; font-size: 16px; line-height: 1.6; text-align: justify;\">   \n",
    "You should check your Qiskit version before starting the lab. It is recommended to use Qiskit version 2.0 or higher for the best experience.\n",
    "</div>"
   ]
  },
  {
   "cell_type": "code",
   "execution_count": null,
   "id": "993dbfdb",
   "metadata": {},
   "outputs": [],
   "source": [
    "import qiskit\n",
    "print(f\"Qiskit version: {qiskit.__version__}\")"
   ]
  },
  {
   "cell_type": "code",
   "execution_count": null,
   "id": "f4b5903d",
   "metadata": {},
   "outputs": [],
   "source": [
    "from qiskit_aer import AerSimulator\n",
    "from qiskit import QuantumCircuit, QuantumRegister, ClassicalRegister, transpile\n",
    "from qiskit.visualization import plot_histogram\n",
    "import random as rd"
   ]
  },
  {
   "cell_type": "markdown",
   "id": "8802ef4f",
   "metadata": {},
   "source": [
    "## **Problem Reminder**"
   ]
  },
  {
   "cell_type": "markdown",
   "id": "8733ece7",
   "metadata": {},
   "source": [
    "<div style=\"font-family: 'Arial'; font-size: 16px; line-height: 1.6; text-align: justify;\">   \n",
    "\n",
    "We are given a mysterious function $f(x)$ that takes as input either a single bit or a string of binary bits and returns only one of two possible values: $0$ or $1$.\n",
    "This mysterious function can be either constant or balanced:\n",
    "\n",
    "- **Constant function**: always outputs $0$ or always outputs $1$, regardless of the input.\n",
    "\n",
    "- **Balanced function**: where it always outputs exactly $2^{n-1}$ times $1$ and $2^{n-1}$ times $0$ for inputs of length $n$.\n",
    "  \n",
    "**Our goal** is to determine whether the mysterious function above is **a constant function** or **a balanced function**.\n",
    "\n",
    "</div>"
   ]
  },
  {
   "cell_type": "markdown",
   "id": "4264f61a",
   "metadata": {},
   "source": [
    "### **Classical Approach**\n",
    "\n",
    "<div style=\"font-family: 'Arial'; font-size: 16px; line-height: 1.6; text-align: justify;\">   \n",
    "  \n",
    "**In classical computation**, in the worst case, we need to query the hidden function $2^{n-1}+1$ times, where $n$ is the length of the binary input string. To make this clearer, we present the following example:\n",
    "\n",
    "Suppose our input consists of $3$ bits, which gives us a total of $8$ possible input cases. In the classical approach, we must call the function $2^{3-1}+1 = 5$ times to determine whether it is constant or balanced. Imagine that for the first $4$ function calls, we supply different input bits and obtain the output bits shown in the table below. \n",
    "\n",
    "| Input (3 bit) | Output |\n",
    "|---------------|--------|\n",
    "| 000           | 0      |\n",
    "| 001           | 0      |\n",
    "| 010           | 0      |\n",
    "| 011           | 0      |\n",
    "  \n",
    "At this stage, we still cannot conclude whether the hidden function is constant or balanced. Therefore, one more function call is required to determine the answer with certainty. If the next input also returns $0$, then it is clearly a constant function; however, if it returns $1$, then we know for sure that it is a balanced function.\n",
    "\n",
    "And similarly, **in the best case**, two queries to the oracle can determine if the hidden Boolean function, $f(x)$, is balanced: e.g. if we get both $f(0,0,0,...)\\rightarrow 0$ and $f(1,0,0,...) \\rightarrow 1$, then we know the function is balanced as we have obtained the two different outputs.  \n",
    "</div>"
   ]
  },
  {
   "cell_type": "markdown",
   "id": "acec0561",
   "metadata": {},
   "source": [
    "### **Modeling the Problem with the Quantum Approach**\n",
    "\n",
    "<div style=\"font-family: 'Arial'; font-size: 16px; line-height: 1.6; text-align: justify;\">   \n",
    "\n",
    "With the quantum approach, we only need to query the hidden function $f$ **once** to achieve our goal. Similar to the classical case, we also need to construct both a balanced and a constant version of the function within the quantum circuit, which we will be able to distinguish with just a single query!\n",
    "\n",
    "The idea is straightforward: we use $n$ qubits as the input, along with one additional qubit representing the function’s output—often referred to as the output qubit. Therefore, our quantum circuit consists of a total of $n+1$ qubits.\n",
    "\n",
    "<img src=\"../images/circuitdeu.png\" alt=\"VS Code install prompt example\" style=\"display: block; margin-left: auto; margin-right: auto; width: 45%; border: 1px solid #ccc; border-radius: 8px;\">\n",
    "\n",
    "**For the constant function**, we can design it as follows: for any input, either leave the output unchanged (meaning no operation is applied to the output qubit), or apply an $X$ (NOT) gate to the output qubit for every input. In both cases, the result is always the same (either always $0$ or always $1$) regardless of the input, which clearly captures the idea of a constant function.\n",
    "\n",
    "**For the balanced function**, we must ensure its defining property: for all possible input cases, the outputs consist of exactly $50\\%$ zeros and $50\\%$ ones. To achieve this, we can simply apply CNOT gates, where the input qubits act as the control qubits and the output qubit is the target. Additionally, to increase the diversity in the ordering of the outputs, we may randomly apply $X$ gates on the input qubits and then cancel them after the balanced function is applied.\n",
    "\n",
    "To make this more concrete, let us consider a simple example with $2$ input qubits and $1$ output qubit, as illustrated in the table below.\n",
    "\n",
    "| Input (2 Qubits)| Output |\n",
    "|-----------------|--------|\n",
    "| 00              | 0      |\n",
    "| 01              | 1      |\n",
    "| 10              | 1      |\n",
    "| 11              | 0      |\n",
    "\n",
    "To increase the diversity in the ordering of the outputs, we apply **an $X$ gate to the first qubit**.\n",
    "\n",
    "| Input (2 Qubits)| X-gate | Output |   \n",
    "|-----------------|--------| ------ |   \n",
    "| 00              | 10     | 1      |   \n",
    "| 01              | 11     | 0      |   \n",
    "| 10              | 00     | 0      |   \n",
    "| 11              | 01     | 1      |   \n",
    "\n",
    "</div>"
   ]
  },
  {
   "cell_type": "markdown",
   "id": "fac3a1b5",
   "metadata": {},
   "source": [
    "## **Designing Constant and Balanced Functions**"
   ]
  },
  {
   "cell_type": "code",
   "execution_count": null,
   "id": "65fc8e7d",
   "metadata": {},
   "outputs": [],
   "source": [
    "# Number of input qubits\n",
    "n_input = 5\n",
    "# Declare quantum and classical registers for inputs, outputs and results\n",
    "qreg_input = QuantumRegister(n_input, name=\"input\")\n",
    "qreg_output = QuantumRegister(1, name=\"output\")\n",
    "creg = ClassicalRegister(n_input, name=\"result\")"
   ]
  },
  {
   "cell_type": "markdown",
   "id": "ce093eec",
   "metadata": {},
   "source": [
    "### **Constant Oracle**"
   ]
  },
  {
   "cell_type": "code",
   "execution_count": null,
   "id": "a3e51ca4",
   "metadata": {},
   "outputs": [],
   "source": [
    "# Randomization for more diverse output behavior\n",
    "output = rd.choice([0, 1])\n",
    "\n",
    "constant_oracle = QuantumCircuit(qreg_input, qreg_output, creg)\n",
    "\n",
    "# Add a barrier to make the circuit easier to visualize\n",
    "constant_oracle.barrier()\n",
    "\n",
    "if output == 1:\n",
    "    constant_oracle.x(qreg_output)\n",
    "constant_oracle.barrier()\n",
    "\n",
    "constant_oracle.draw('mpl')"
   ]
  },
  {
   "cell_type": "markdown",
   "id": "949f453a",
   "metadata": {},
   "source": [
    "### **Balanced Oracle**\n"
   ]
  },
  {
   "cell_type": "code",
   "execution_count": null,
   "id": "5184f246",
   "metadata": {},
   "outputs": [],
   "source": [
    "# Generate a random qubit string; qubits with value 1 will be assigned an X gate\n",
    "# The order from left to right corresponds to the output, input n−1, input n−2, input n−3, and so on.\n",
    "qstr = format(rd.randint(1, 2**n_input - 1) , '0' + str(n_input) + 'b') "
   ]
  },
  {
   "cell_type": "markdown",
   "id": "de58f2bb",
   "metadata": {},
   "source": [
    "<div style=\"font-family: 'Arial'; font-size: 16px; line-height: 1.6; text-align: justify; color: #111; background-color: #fff8dc; padding: 15px; border-radius: 8px;\">   \n",
    "\n",
    "**Exercise 1: Designing a Balanced Oracle**\n",
    "  \n",
    "Your task is to design a quantum circuit representing a Balanced Function, which ensures that the outputs always contain an equal number of 0s and 1s. At the same time, maintain diversity in the ordering of the output. Follow these steps:\n",
    "  \n",
    "1. For a randomly generated qubit string, apply X gates to the qubits marked as 1 in the string.\n",
    "2. Apply CNOT gates using the input qubits as control qubits and the output qubit as the target.\n",
    "3. Undo the X gates added in step 1 to preserve the correctness of the function.\n",
    "</div>"
   ]
  },
  {
   "cell_type": "code",
   "execution_count": null,
   "id": "8f9bf057",
   "metadata": {},
   "outputs": [],
   "source": [
    "balanced_oracle = QuantumCircuit(qreg_input, qreg_output, creg)\n",
    "\n",
    "balanced_oracle.barrier()\n",
    "\n",
    "### WRITE YOUR CODE BELOW THIS CELL ###\n",
    "\n",
    "# Loop through the elements of the qubit string\n",
    "\n",
    "    # Apply an X gate if the current qubit is 1\n",
    "\n",
    "        # Perform the X gate\n",
    "\n",
    "# Loop over the input qubits\n",
    "\n",
    "    # Apply a CNOT gate with the input qubit as control and the output qubit as target\n",
    "\n",
    "# Add a barrier to make the circuit easier to visualize\n",
    "balanced_oracle.barrier()\n",
    "# Loop through the elements of the qubit string\n",
    "\n",
    "    # Apply an X gate if the current qubit is 1\n",
    "\n",
    "        # Apply X gates to reset the input qubits to their original state\n",
    "\n",
    "### YOUR CODE FINISHES HERE ###\n",
    "balanced_oracle.barrier()\n",
    "\n",
    "balanced_oracle.draw('mpl')"
   ]
  },
  {
   "cell_type": "markdown",
   "id": "ddb9bcb7",
   "metadata": {},
   "source": [
    "## **The Deutsch–Jozsa Algorithm**"
   ]
  },
  {
   "cell_type": "markdown",
   "id": "75fc9382",
   "metadata": {},
   "source": [
    "<div style=\"font-family: 'Arial'; font-size: 16px; line-height: 1.6; text-align: justify;\">   \n",
    " \n",
    "We assume that the function fed into the quantum circuit of the algorithm is **unknown**; it could be either a balanced function or a constant function, and the choice of which function to use is made **randomly**.\n",
    "</div>"
   ]
  },
  {
   "cell_type": "code",
   "execution_count": null,
   "id": "a20057ac",
   "metadata": {},
   "outputs": [],
   "source": [
    "# Assume that the function selection is performed randomly\n",
    "oracle = rd.choice([\"balanced\", \"constant\"])"
   ]
  },
  {
   "cell_type": "markdown",
   "id": "e51efa4f",
   "metadata": {},
   "source": [
    "<div style=\"font-family: 'Arial'; font-size: 16px; line-height: 1.6; text-align: justify; color: #111; background-color: #fff8dc; padding: 15px; border-radius: 8px;\">   \n",
    "\n",
    "**Exercise 2: Designing the Algorithm**\n",
    "  \n",
    "Your task is to **design an algorithm** to **determine** whether the function fed into the quantum circuit via the random function above is constant or balanced *(keep everything secret!)*. Follow these steps to construct the algorithm:\n",
    "\n",
    "1. Create a quantum circuit using the existing registers.\n",
    "2. Prepare the $\\ket -$ state by applying an X gate to the first qubit.\n",
    "3. Put all input qubits into a quantum superposition.\n",
    "4. Apply the oracle function (the hidden function) to the circuit.\n",
    "5. Apply Hadamard gates to all input qubits after the oracle has been applied.\n",
    "6. Apply measurement gates to all input qubits.\n",
    "\n",
    "</div>"
   ]
  },
  {
   "cell_type": "code",
   "execution_count": null,
   "id": "9a432fc1",
   "metadata": {},
   "outputs": [],
   "source": [
    "dj_circuit = QuantumCircuit(qreg_input, qreg_output, creg)\n",
    "\n",
    "### WRITE YOUR CODE BELOW THIS CELL ###\n",
    "# Apply an X gate to the output qubit\n",
    "\n",
    "# Apply a Hadamard gate to the output qubit to prepare the |−⟩ state\n",
    "\n",
    "# Add a barrier to make the circuit easier to visualize\n",
    "dj_circuit.barrier()\n",
    "# Loop over the input qubits\n",
    "\n",
    "    # Apply Hadamard gates to all input qubits\n",
    "\n",
    "# Apply the hidden (oracle) function to the quantum circuit\n",
    "if oracle==\"balanced\":\n",
    "    dj_circuit = dj_circuit.compose(balanced_oracle)\n",
    "elif oracle==\"constant\":\n",
    "    dj_circuit = dj_circuit.compose(constant_oracle)\n",
    "# Loop over all input qubits again\n",
    "\n",
    "    # Apply Hadamard gates to all input qubits after applying the function\n",
    "\n",
    "# Add a barrier to make the circuit easier to visualize.\n",
    "dj_circuit.barrier()  \n",
    "# Loop over all input qubits\n",
    "\n",
    "    # Apply measurement gates\n",
    "    \n",
    "### YOUR CODE FINISHES HERE ###\n",
    "\n",
    "dj_circuit.draw('mpl')"
   ]
  },
  {
   "cell_type": "markdown",
   "id": "30886137",
   "metadata": {},
   "source": [
    "<div style=\"font-family: 'Arial'; font-size: 16px; line-height: 1.6; text-align: justify;\">   \n",
    " \n",
    "Great! After completing the steps above, we can see our quantum circuit fully constructed. By visually inspecting the simulated circuit, you might already get a sense of what kind of function it represents!\n",
    "  \n",
    "However, suppose the function is still hidden inside a **“black box.”** To determine its nature, we measure the classical outputs of the input qubits. As expected:\n",
    "- If the function is constant, all measurements return $0$.\n",
    "- If the function is balanced, all measurements return $1$.\n",
    "</div>"
   ]
  },
  {
   "cell_type": "markdown",
   "id": "2ceb8fb8",
   "metadata": {},
   "source": [
    "<div style=\"font-family: 'Arial'; font-size: 16px; line-height: 1.6; text-align: justify; color: #111; background-color: #fff8dc; padding: 15px; border-radius: 8px;\">   \n",
    "\n",
    "**Exercise 3: Verifying the Algorithm**\n",
    "  \n",
    "Your task is to run the quantum algorithm on a simulator and read the results. Based on the measurements, determine whether the function is balanced or constant.\n",
    "</div>"
   ]
  },
  {
   "cell_type": "code",
   "execution_count": null,
   "id": "e1858537",
   "metadata": {},
   "outputs": [],
   "source": [
    "### WRITE YOUR CODE BELOW THIS CELL ###\n",
    "\n",
    "# Initialize the quantum backend simulator for GHZ state execution\n",
    "backend_simulator = \n",
    "# Compile the GHZ quantum circuit to run on the simulation backend\n",
    "transpiled_circ =\n",
    "# Execute the transpiled GHZ circuit on the simulator with 1024 shots\n",
    "job =\n",
    "# Retrieve the result of the execution job\n",
    "result = \n",
    "# Count the occurrences of each measurement outcome using the get_counts() method\n",
    "counts = \n",
    "### YOUR CODE FINISHES HERE ###\n",
    "\n",
    "plot_histogram(counts)"
   ]
  },
  {
   "cell_type": "markdown",
   "id": "b222ca7e",
   "metadata": {},
   "source": [
    "## **Congratulations!**\n"
   ]
  },
  {
   "cell_type": "markdown",
   "id": "4d794e7f",
   "metadata": {},
   "source": [
    "<div style=\"font-family: 'Arial'; font-size: 16px; line-height: 1.6; text-align: justify;\">   \n",
    "\n",
    "Congratulations! We have successfully completed Lab 3 of the **IO Quantum Summer School 2025.**\n",
    "\n",
    "In this lab, we designed and gained a deep understanding of a quantum algorithm known as the **Deutsch-Jozsa algorithm**. Although this algorithm is relatively simple and has limited practical applications, it serves as an important demonstration of **quantum advantage** for certain classes of problems that are challenging for classical computation.\n",
    "\n",
    "In the next lab, we will continue exploring a quantum algorithm used for **searching** within **unstructured data**: **Grover’s algorithm.**\n",
    "\n",
    "</div>"
   ]
  },
  {
   "cell_type": "markdown",
   "id": "825b1efe",
   "metadata": {},
   "source": [
    "## **Additional information**\n",
    "\n",
    "\n"
   ]
  },
  {
   "cell_type": "markdown",
   "id": "4019f62d",
   "metadata": {},
   "source": [
    "<div style=\"font-family: 'Arial'; font-size: 16px; line-height: 1.6; text-align: justify;\">   \n",
    "\n",
    "**Created by**: An Phan\n",
    "  \n",
    "**Advised by**: Hoa Nguyen\n",
    "</div>"
   ]
  }
 ],
 "metadata": {
  "kernelspec": {
   "display_name": "venv",
   "language": "python",
   "name": "python3"
  },
  "language_info": {
   "codemirror_mode": {
    "name": "ipython",
    "version": 3
   },
   "file_extension": ".py",
   "mimetype": "text/x-python",
   "name": "python",
   "nbconvert_exporter": "python",
   "pygments_lexer": "ipython3",
   "version": "3.13.4"
  }
 },
 "nbformat": 4,
 "nbformat_minor": 5
}
