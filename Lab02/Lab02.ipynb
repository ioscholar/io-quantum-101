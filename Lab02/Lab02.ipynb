{
 "cells": [
  {
   "cell_type": "markdown",
   "id": "6ee0ddae",
   "metadata": {},
   "source": [
    "![Welcome IO Quantum 101 Image](../images/WelcomeIOQuantum101Image.png)\n"
   ]
  },
  {
   "cell_type": "markdown",
   "id": "71b1b1ea",
   "metadata": {},
   "source": [
    "# **Lab 02 - Quantum Entanglement in Action**"
   ]
  },
  {
   "cell_type": "markdown",
   "id": "48447912",
   "metadata": {},
   "source": [
    "<div style=\"font-family: 'Arial'; font-size: 16px; line-height: 1.6; text-align: justify;\">  \n",
    "Welcome back to the IO Quantum Summer School at the IO Scholar Community 🙋🏻‍♂️.\n",
    "<br>\n",
    "  \n",
    "Great! We now have everything we need to continue our quantum journey. All the essential Python packages—especially Qiskit—are already installed. These were set up during our first lab, so make sure you’ve completed those steps before moving forward.\n",
    "\n",
    "</div>"
   ]
  },
  {
   "cell_type": "markdown",
   "id": "08417839",
   "metadata": {},
   "source": [
    "## **A friendly little reminder**\n",
    "\n",
    "<div style=\"font-family: 'Arial'; font-size: 16px; line-height: 1.6; text-align: justify;\">   \n",
    "\n",
    "Just as in the previous lab—and in all the labs to come—we’ll be working with Jupyter notebooks. Code snippets will be provided for you, except in certain cells where your task will be to complete the code to ensure our quantum program runs smoothly. These cells will be clearly marked with a comment like: <span style=\"font-family: monospace; font-weight: bold; color: #111; background-color: #fff8dc; padding: 2px 6px; border-radius: 4px;\"> ### WRITE YOUR CODE BELOW THIS CELL ### </span>.\n",
    "\n",
    "Another friendly reminder: we’ll be running our quantum programs exclusively on simulators. No worries—these work perfectly well for our purposes.\n",
    "\n",
    "**Lab 2** will focus on practicing quantum entanglement. We’ll start with a simple yet fundamental example of this phenomenon: the Bell states—quantum entanglement between two qubits. Next, we will extend this concept to a three-qubit system known as the GHZ state. But we won’t stop there; we’ll also explore how to generalize entanglement to an n-qubit system. Finally, we’ll dive into one of the most exciting applications of entanglement: quantum state transmission, a process constrained by the No-Cloning Theorem, which prohibits creating an exact copy of an unknown quantum state!\n",
    "\n",
    "</div>"
   ]
  },
  {
   "cell_type": "markdown",
   "id": "41a7c2b3",
   "metadata": {},
   "source": [
    "## **Pre-checking and Imports**\n"
   ]
  },
  {
   "cell_type": "markdown",
   "id": "19a4c3da",
   "metadata": {},
   "source": [
    "<div style=\"font-family: 'Arial'; font-size: 16px; line-height: 1.6; text-align: justify;\">   \n",
    "You should check your Qiskit version before starting the lab. It is recommended to use Qiskit version 2.0 or higher for the best experience.\n",
    "</div>"
   ]
  },
  {
   "cell_type": "code",
   "execution_count": null,
   "id": "993dbfdb",
   "metadata": {},
   "outputs": [],
   "source": [
    "import qiskit\n",
    "print(f\"Qiskit version: {qiskit.__version__}\")"
   ]
  },
  {
   "cell_type": "code",
   "execution_count": null,
   "id": "f4b5903d",
   "metadata": {},
   "outputs": [],
   "source": [
    "from qiskit_aer import AerSimulator\n",
    "from qiskit import QuantumCircuit, QuantumRegister, ClassicalRegister, transpile\n",
    "from qiskit.visualization import plot_histogram\n",
    "import numpy as np "
   ]
  },
  {
   "cell_type": "markdown",
   "id": "8802ef4f",
   "metadata": {},
   "source": [
    "## **Bell States**"
   ]
  },
  {
   "cell_type": "markdown",
   "id": "edacf413",
   "metadata": {},
   "source": [
    "<div style=\"font-family: 'Arial'; font-size: 16px; line-height: 1.6; text-align: justify;\">   \n",
    "\n",
    "Bell states are specific quantum states considered the simplest and most fundamental examples of quantum entanglement in a two-qubit system. They are named after the physicist John Stewart Bell.\n",
    "\n",
    "These states provide the clearest evidence of non-classical correlations between quantum particles. This means that if two qubits are in a Bell state, their measurement outcomes will be perfectly correlated, no matter how far apart they are. More precisely, if we measure the first qubit and obtain a result, we immediately—and with **$100\\%$ certainty—know** the corresponding state of the second qubit. The state of the second qubit is determined at the very moment we measure the first one; this phenomenon is known as the “collapse” of the entangled state.\n",
    "\n",
    "Mathematically, the Bell states are represented as follows:\n",
    "    <div style=\"text-align: center;\"> \n",
    "        $ \\ket {{\\phi}^+_{00}} = \\frac{\\ket{00}+\\ket{11}}{\\sqrt 2} \\space \\space \\space \\space \\space \\space \\space \\space \\space \\space \\space \\space \\space \\space \\space \\space  \\ket {{\\psi}^+_{01}} = \\frac{\\ket{01}+\\ket{10}}{\\sqrt 2}$ \n",
    "    </div>\n",
    "    <br>\n",
    "    <div style=\"text-align: center;\"> \n",
    "        $ \\ket {{\\phi}^-_{10}} = \\frac{\\ket{00}-\\ket{11}}{\\sqrt 2} \\space \\space \\space \\space \\space \\space \\space \\space \\space \\space \\space \\space \\space \\space \\space \\space \\ket {{\\psi}^-_{11}} = \\frac{\\ket{01}-\\ket{10}}{\\sqrt 2}$\n",
    "    </div>\n",
    "      \n",
    "A brief explanation of the formulas above is that the notation on the left side, for example $\\ket {{\\phi}^+_{00}}$, indicates that our input consists of qubits in the states $\\ket 0$ and $\\ket 0$. Similarly, the kets on the right side, such as $\\ket{00}$, imply that $0$ represents the first qubit and $0$ represents the second qubit.\n",
    "\n",
    "Bell states can be created using a simple two-qubit quantum circuit as follows: by applying a Hadamard gate to the first qubit, followed by a CNOT (controlled NOT) gate with the first qubit as control and the second as target. This process is illustrated simply below.\n",
    "\n",
    "<img src=\"../images/bellstate.png\" alt=\"VS Code install prompt example\" style=\"display: block; margin-left: auto; margin-right: auto; width: 45%; border: 1px solid #ccc; border-radius: 8px;\">\n",
    "</div>"
   ]
  },
  {
   "cell_type": "markdown",
   "id": "e2e3cf45",
   "metadata": {},
   "source": [
    "<div style=\"font-family: 'Arial'; font-size: 16px; line-height: 1.6; text-align: justify;\">   \n",
    "\n",
    "Below is the simulation code for creating a specific Bell state: $\\ket {{\\phi}^+_{00}}$, with this state, after measurement, we can observe a $0.5$ probability of obtaining the state $\\ket{00}$ and a $0.5$ probability of obtaining the state $\\ket{11}$.\n",
    "</div>"
   ]
  },
  {
   "cell_type": "code",
   "execution_count": null,
   "id": "ec8b4465",
   "metadata": {},
   "outputs": [],
   "source": [
    "# Create a quantum circuit with 2 qubits\n",
    "bell_circ_00 = QuantumCircuit(2)\n",
    "\n",
    "# Apply a Hadamard gate to the first qubit\n",
    "bell_circ_00.h(0)\n",
    "\n",
    "# Apply a CNOT gate with the first qubit as control and the second qubit as target\n",
    "bell_circ_00.cx(0, 1)\n",
    "\n",
    "# Measure both qubits\n",
    "bell_circ_00.measure_all()\n",
    "\n",
    "bell_circ_00.draw(output='mpl')"
   ]
  },
  {
   "cell_type": "code",
   "execution_count": null,
   "id": "20536814",
   "metadata": {},
   "outputs": [],
   "source": [
    "# RUN THE QUANTUM CIRCUIT ON A SIMULATION BACKEND\n",
    "\n",
    "# Initialize the quantum backend simulator\n",
    "backend_simulator = AerSimulator()\n",
    "\n",
    "# Compile the quantum circuit to run on a simulation backend \n",
    "transpiled_bellqc_00 = transpile(bell_circ_00, backend_simulator) \n",
    "\n",
    "# Run the transpiled circuit on the simulator with 1024 shots\n",
    "job = backend_simulator.run(transpiled_bellqc_00, shots=1024)\n",
    "\n",
    "# Get the result of the job\n",
    "result = job.result()\n",
    "\n",
    "# Count the number of occurrences for each measurement outcome\n",
    "counts = result.get_counts()\n",
    "\n",
    "plot_histogram(counts, title='__Bell State Measurement__')"
   ]
  },
  {
   "cell_type": "markdown",
   "id": "dc4b2648",
   "metadata": {},
   "source": [
    "<div style=\"font-family: 'Arial'; font-size: 16px; line-height: 1.6; text-align: justify;\">   \n",
    "\n",
    "The chart above shows that only the two states $\\ket{00}$ and $\\ket{11}$ appear. This indicates that we have successfully prepared the Bell state starting from the input of both qubits in the $\\ket 0$ state, or equivalently $\\ket{00}$ as the input.\n",
    "\n",
    "**Note**: Although we used a simulator without specifying a particular fake backend—meaning the simulation is noise-free—you may still notice a slight imbalance between the occurrences of state $\\ket{00}$ and state $\\ket{11}$. This is due to the inherent randomness of quantum mechanics, where each state has a $0.5$ probability of being measured. In contrast, when using a noisy simulator, some additional states not shown in the above chart—namely $\\ket{01}$ and $\\ket{10}$—may appear. This effect can be visualized as shown below.\n",
    "\n",
    "<img src=\"../images/bellstatewithnoise.png\" alt=\"VS Code install prompt example\" style=\"display: block; margin-left: auto; margin-right: auto; width: 45%; border: 1px solid #ccc; border-radius: 8px;\">\n",
    "</div>"
   ]
  },
  {
   "cell_type": "markdown",
   "id": "5d4a08f3",
   "metadata": {},
   "source": [
    "<div style=\"font-family: 'Arial'; font-size: 16px; line-height: 1.6; text-align: justify;\">   \n",
    "\n",
    "We can also create a Bell state from a different input. For instance, starting with $\\ket{10}$, we can prepare the Bell state $\\ket {{\\phi}^-_{10}}$.\n",
    "</div>"
   ]
  },
  {
   "cell_type": "markdown",
   "id": "eb29a41d",
   "metadata": {},
   "source": [
    "<div style=\"font-family: 'Arial'; font-size: 16px; line-height: 1.6; text-align: justify; color: #111; background-color: #fff8dc; padding: 15px; border-radius: 8px;\">   \n",
    "\n",
    "**Exercise 1: Designing Bell States with the Remaining Inputs**\n",
    "  \n",
    "Your task is to design the Bell states for the remaining input combinations: $\\ket{01}$, $\\ket{10}$, and $\\ket{11}$, which we have not implemented in the previous section.\n",
    "1. First code block: Design a Bell state with the input $\\ket{01}$\n",
    "2. Second code block: Repeat the procedure above with the input $\\ket{10}$\n",
    "3. Third code block: Likewise, with the input $\\ket{11}$\n",
    "\n",
    "</div>"
   ]
  },
  {
   "cell_type": "code",
   "execution_count": null,
   "id": "937393aa",
   "metadata": {},
   "outputs": [],
   "source": [
    "# FIRST CODE BLOCK\n",
    "bell_circ_01 = QuantumCircuit(2)\n",
    "\n",
    "### WRITE YOUR CODE BELOW THIS CELL ###\n",
    "# Prepare the input |01⟩ for the quantum circuit.\n",
    "\n",
    "# Add a Hadamard gate\n",
    "\n",
    "# Add a CNOT gate\n",
    "\n",
    "# Add a measurement gate\n",
    "\n",
    "### YOUR CODE FINISHES HERE ###\n",
    "\n",
    "bell_circ_01.draw(output='mpl')"
   ]
  },
  {
   "cell_type": "code",
   "execution_count": null,
   "id": "08e04173",
   "metadata": {},
   "outputs": [],
   "source": [
    "# SECOND CODE BLOCK\n",
    "bell_circ_10 = QuantumCircuit(2)\n",
    "\n",
    "### WRITE YOUR CODE BELOW THIS CELL ###\n",
    "# Prepare the input |10⟩ for the quantum circuit.\n",
    "\n",
    "# Add a Hadamard gate\n",
    "\n",
    "# Add a CNOT gate\n",
    "\n",
    "# Add a measurement gate\n",
    "\n",
    "### YOUR CODE FINISHES HERE ###\n",
    "\n",
    "bell_circ_10.draw(output='mpl')"
   ]
  },
  {
   "cell_type": "code",
   "execution_count": null,
   "id": "fdc62d66",
   "metadata": {},
   "outputs": [],
   "source": [
    "# THIRD CODE BLOCK\n",
    "bell_circ_11 = QuantumCircuit(2)\n",
    "\n",
    "### WRITE YOUR CODE BELOW THIS CELL ###\n",
    "# Prepare state |1⟩ for the first qubit\n",
    "\n",
    "# Prepare state |1⟩ for the second qubit\n",
    "\n",
    "# Add a Hadamard gate\n",
    "\n",
    "# Add a CNOT gate\n",
    "\n",
    "# Add a measurement gate\n",
    "\n",
    "### YOUR CODE FINISHES HERE ###\n",
    "\n",
    "bell_circ_11.draw(output='mpl')"
   ]
  },
  {
   "cell_type": "markdown",
   "id": "583438db",
   "metadata": {},
   "source": [
    "## **GHZ State**"
   ]
  },
  {
   "cell_type": "markdown",
   "id": "7fca85ae",
   "metadata": {},
   "source": [
    "<div style=\"font-family: 'Arial'; font-size: 16px; line-height: 1.6; text-align: justify;\">   \n",
    "\n",
    "We can think of the GHZ state in much the same way as the Bell states described above. The GHZ state is a quantum state representing the entanglement of a three-qubit system, named after the three authors who first described it.\n",
    "\n",
    "Mathematically, the GHZ state is expressed as follows:\n",
    "    <div style=\"text-align: center;\">   \n",
    "        $ \\ket {{GHZ}} = \\frac{1}{\\sqrt 2}(\\ket{000}+\\ket{111})$ \n",
    "    </div>\n",
    "\n",
    "We can create a GHZ state in several different ways, but below we’ll follow one of the most common methods, illustrated in the diagram shown here.\n",
    "\n",
    "<img src=\"../images/ghzstate.png\" alt=\"VS Code install prompt example\" style=\"display: block; margin-left: auto; margin-right: auto; width: 45%; border: 1px solid #ccc; border-radius: 8px;\">\n",
    "\n",
    "</div>"
   ]
  },
  {
   "cell_type": "markdown",
   "id": "f609b91c",
   "metadata": {},
   "source": [
    "<div style=\"font-family: 'Arial'; font-size: 16px; line-height: 1.6; text-align: justify; color: #111; background-color: #fff8dc; padding: 15px; border-radius: 8px;\">   \n",
    "\n",
    "**Exercise 2: Design a GHZ state**\n",
    "  \n",
    "Your task is to design the GHZ state based on the illustration provided above by following these steps:\n",
    "1. **Apply a Hadamard gate** to the first qubit.\n",
    "2. **Apply a CNOT gate between qubit 0 and qubit 1**, with qubit 0 as the control and qubit 1 as the target.\n",
    "3. Repeat step two for qubit 1 and qubit 2.\n",
    "\n",
    "    \n",
    "\n",
    "</div>"
   ]
  },
  {
   "cell_type": "code",
   "execution_count": null,
   "id": "5359ca9c",
   "metadata": {},
   "outputs": [],
   "source": [
    "ghz_circ = QuantumCircuit(3)\n",
    "\n",
    "### WRITE YOUR CODE BELOW THIS CELL ###\n",
    "# Apply a Hadamard gate to the first qubit\n",
    "\n",
    "# Apply a CNOT gate between qubit 0 and qubit 1\n",
    "\n",
    "# Apply a CNOT gate between qubit 1 and qubit 2\n",
    "\n",
    "# Apply a measurement gate to all qubits.\n",
    "\n",
    "### YOUR CODE FINISHES HERE ###\n",
    "\n",
    "ghz_circ.draw('mpl')"
   ]
  },
  {
   "cell_type": "markdown",
   "id": "27166e07",
   "metadata": {},
   "source": [
    "<div style=\"font-family: 'Arial'; font-size: 16px; line-height: 1.6; text-align: justify; color: #111; background-color: #fff8dc; padding: 15px; border-radius: 8px;\">   \n",
    "\n",
    "**Exercise 3: Execute the GHZ quantum circuit**\n",
    "  \n",
    "Execute the GHZ quantum circuit on a noise-free simulator by following these steps:\n",
    "1. **Compile** the circuit.\n",
    "2. **Run** the circuit with **1024 shots**.\n",
    "3. Retrieve the results.\n",
    "4. Read the number of occurrences for each state from the retrieved results.\n",
    "</div>"
   ]
  },
  {
   "cell_type": "code",
   "execution_count": null,
   "id": "d8bf1158",
   "metadata": {},
   "outputs": [],
   "source": [
    "# RUN THE QUANTUM CIRCUIT ON A SIMULATION BACKEND\n",
    "\n",
    "# Initialize the quantum backend simulator for GHZ state execution\n",
    "backend_simulator = AerSimulator()\n",
    "\n",
    "### WRITE YOUR CODE BELOW THIS CELL ###\n",
    "# Compile the GHZ quantum circuit to run on the simulation backend\n",
    "transpiled_ghz_circ = \n",
    "# Execute the transpiled GHZ circuit on the simulator with 1024 shots\n",
    "job = \n",
    "# Retrieve the result of the execution job\n",
    "result = \n",
    "# Count the occurrences of each measurement outcome using the get_counts() method\n",
    "counts = \n",
    "### YOUR CODE FINISHES HERE ###\n",
    "\n",
    "plot_histogram(counts, title='__GHZ State Measurement__')"
   ]
  },
  {
   "cell_type": "markdown",
   "id": "08f987fe",
   "metadata": {},
   "source": [
    "## **Quantum entanglement with $n$ qubits?**"
   ]
  },
  {
   "cell_type": "markdown",
   "id": "eb1a2816",
   "metadata": {},
   "source": [
    "<div style=\"font-family: 'Arial'; font-size: 16px; line-height: 1.6; text-align: justify;\">   \n",
    "\n",
    "Quantum entanglement is not limited to just two qubits (the Bell states) or three qubits (the GHZ states). It can also be realized across multiple qubits, commonly referred to as an n-qubit GHZ state. The creation of such an entangled state can be visualized with the code snippet shown below.\n",
    "</div>"
   ]
  },
  {
   "cell_type": "markdown",
   "id": "c5b651aa",
   "metadata": {},
   "source": [
    "<div style=\"font-family: 'Arial'; font-size: 16px; line-height: 1.6; text-align: justify; color: #111; background-color: #fff8dc; padding: 15px; border-radius: 8px;\">   \n",
    "\n",
    "**Exercise 4: Designing an n-Qubit GHZ State Circuit**\n",
    "  \n",
    "Your task is to recognize the generalized pattern from the GHZ state above and design an n-qubit GHZ-state quantum circuit by following the steps below\n",
    "1. Apply a **Hadamard gate** to the first qubit.\n",
    "2. Sequentially apply **CNOT gates** to **each subsequent pair of qubits**.\n",
    "</div>"
   ]
  },
  {
   "cell_type": "code",
   "execution_count": null,
   "id": "818580a3",
   "metadata": {},
   "outputs": [],
   "source": [
    "def quantum_entanglement_n_qubits(n: int) -> QuantumCircuit: \n",
    "    \"\"\"\n",
    "    Create a quantum circuit to generate an n-qubit entangled state (GHZ state).\n",
    "\n",
    "    This function constructs and returns a QuantumCircuit object. When executed, the circuit produces an n-qubit GHZ state.\n",
    "\n",
    "    Steps performed:\n",
    "        1. Initialize a quantum circuit with n qubits.\n",
    "        2. Apply a Hadamard (H) gate to the first qubit (qubit 0) to put it into a superposition.\n",
    "        3. Apply a sequence of CNOT (CX) gates sequentially, where qubit `i` is the control and qubit `i + 1` is the target, to entangle all qubits.\n",
    "    Args:\n",
    "        n (int): The desired number of qubits in the circuit.\n",
    "    Returns:\n",
    "        QuantumCircuit: A constructed quantum circuit that generates the GHZ state.\n",
    "    \"\"\"\n",
    "    qc = QuantumCircuit(n)\n",
    "    ### WRITE YOUR CODE BELOW THIS CELL ###\n",
    "    # Apply a Hadamard gate\n",
    "    \n",
    "    for i in range(n - 1):\n",
    "        # Sequentially apply CNOT gates to each subsequent pair of qubits\n",
    "        \n",
    "    return qc\n",
    "    ### YOUR CODE FINISHES HERE ###\n",
    "    \n",
    "number_of_qubit = 7\n",
    "GHZ_circ_n = quantum_entanglement_n_qubits(number_of_qubit)\n",
    "\n",
    "GHZ_circ_n.draw('mpl')"
   ]
  },
  {
   "cell_type": "markdown",
   "id": "6b7c9147",
   "metadata": {},
   "source": [
    "## **Quantum Teleportation**"
   ]
  },
  {
   "cell_type": "markdown",
   "id": "684c359e",
   "metadata": {},
   "source": [
    "<div style=\"font-family: 'Arial'; font-size: 16px; line-height: 1.6; text-align: justify;\">   \n",
    "\n",
    "**Quantum Teleportation** is a **protocol** that leverages the phenomenon of quantum entanglement to allow us to transmit an **unknown quantum state** (which can be expressed as a state $\\ket \\psi = \\alpha \\ket 0 + \\beta \\ket 1$ with $\\alpha$ and $\\beta$ being unknown) from one qubit to another, without physically moving the qubit that is in that quantum state, and without violating the No-Cloning Theorem.\n",
    "\n",
    "The protocol requires two components:\n",
    "1. **A pair of entangled qubits** shared between the sender and the receiver (this can be prepared, for example, in a Bell state).\n",
    "2. **A classical communication channel**, over which the classical bits obtained from measurement are physically transmitted from one location to another.\n",
    "\n",
    "**The No-Cloning Theorem** states that it is impossible to create an independent, identical copy of any **unknown quantum state**. This can be intuitively understood from the fact that, whenever we attempt to extract information from a quantum state, we are essentially performing a measurement on that quantum system. And—well—once a measurement is made, the state immediately collapses into one of its basis states, causing the loss of the original information. This is why it is impossible to duplicate an unknown quantum state.\n",
    "</div>"
   ]
  },
  {
   "cell_type": "markdown",
   "id": "8fa5e431",
   "metadata": {},
   "source": [
    "### **Quantum Teleportation in Action: The Alice and Bob Example**\n",
    "<div style=\"font-family: 'Arial'; font-size: 16px; line-height: 1.6; text-align: justify;\">   \n",
    "\n",
    "<img src=\"../images/quantumteleportationalicebob.png\" alt=\"VS Code install prompt example\" style=\"display: block; margin-left: auto; margin-right: auto; width: 80%; border: 1px solid #ccc; border-radius: 8px;\">\n",
    "  \n",
    "To illustrate the quantum teleportation protocol in practice, we will use Qiskit to simulate the transmission of a quantum state that is initially held by Alice and transferred to Bob.\n",
    "\n",
    "**Scenario**: Alice and Bob live in two distant cities. Between them, they share a pair of quantum-entangled qubits, known as an ebit. The first ebit ($ebit_0$) is held by Alice, and the second ($ebit_1$) is held by Bob. They also share a classical communication channel, which will carry two classical bits—denoted $a$ and $b$—from Alice to Bob. These bits are the results of Alice’s measurements.\n",
    "\n",
    "**Goal**: Alice possesses an unknown quantum state, known as a $qubit$, and she wants to transmit this quantum state to Bob. However, she can only send him two classical bits because the No-Cloning Theorem forbids her from copying and physically transmitting the unknown quantum state.\n",
    "\n",
    "**Note that** when Alice measures her quantum state to extract the classical information and send it to Bob, her quantum state $\\ket \\psi = \\alpha \\ket 0 + \\beta \\ket 1$ completely collapses, and she no longer retains that quantum state.\n",
    "\n",
    "On Bob’s side, after receiving Alice’s two classical bits, he applies specific quantum operations to his half of the entangled pair—the qubit he is holding. Boom 💥! He now possesses the exact quantum state that Alice intended to send.\n",
    "</div>"
   ]
  },
  {
   "cell_type": "markdown",
   "id": "957b3d2a",
   "metadata": {},
   "source": [
    "### **Design a Quantum Teleportation Protocol**"
   ]
  },
  {
   "cell_type": "markdown",
   "id": "2df3f80e",
   "metadata": {},
   "source": [
    "<div style=\"font-family: 'Arial'; font-size: 16px; line-height: 1.6; text-align: justify;\">   \n",
    "\n",
    "In this section, we will attempt to transmit the quantum state $\\ket \\psi = \\sqrt{0.8} \\ket 0 + \\sqrt{0.2} \\ket 1$ by constructing a protocol based on the illustrative diagram of the quantum circuit shown below.\n",
    "  \n",
    "<img src=\"../images/teleportationcirc.png\" alt=\"VS Code install prompt example\" style=\"display: block; margin-left: auto; margin-right: auto; width: 80%; border: 1px solid #ccc; border-radius: 8px;\">\n",
    "</div>"
   ]
  },
  {
   "cell_type": "code",
   "execution_count": null,
   "id": "e1ee8e5e",
   "metadata": {},
   "outputs": [],
   "source": [
    "# Defining the Registers and Constructing the Quantum Circuit\n",
    "qubit = QuantumRegister(1, \"Q\")\n",
    "ebit0 = QuantumRegister(1, \"ebit0\")\n",
    "ebit1 = QuantumRegister(1, \"ebit1\")\n",
    "a = ClassicalRegister(1, \"a\")\n",
    "b = ClassicalRegister(1, \"b\")\n",
    "\n",
    "protocol = QuantumCircuit(qubit, ebit0, ebit1, a, b)"
   ]
  },
  {
   "cell_type": "markdown",
   "id": "ce7b44a4",
   "metadata": {},
   "source": [
    "<div style=\"font-family: 'Arial'; font-size: 16px; line-height: 1.6; text-align: justify; color: #111; background-color: #fff8dc; padding: 15px; border-radius: 8px;\">   \n",
    "\n",
    "**Exercise 5: Generating Entanglement**\n",
    "  \n",
    "Generating Quantum Entanglement Between Two Qubits Shared by Alice and Bob Through a Bell State Circuit\n",
    "</div>"
   ]
  },
  {
   "cell_type": "code",
   "execution_count": null,
   "id": "42da4a16",
   "metadata": {},
   "outputs": [],
   "source": [
    "### WRITE YOUR CODE BELOW THIS CELL ###\n",
    "# Creating Quantum Superposition for the Qubit That Will Be Entangled with Bob, Currently Held by Alice\n",
    "\n",
    "# Applying the CNOT Gate to Both Alice’s and Bob’s Qubits\n",
    "\n",
    "### YOUR CODE FINISHES HERE ###\n",
    "\n",
    "protocol.barrier()\n",
    "protocol.draw(\"mpl\")"
   ]
  },
  {
   "cell_type": "code",
   "execution_count": null,
   "id": "4e31baba",
   "metadata": {},
   "outputs": [],
   "source": [
    "# Preparing the Quantum State to Be Transmitted\n",
    "alpha = np.sqrt(0.80)\n",
    "beta = np.sqrt(0.20)\n",
    "protocol.initialize([alpha, beta], 0)\n",
    "\n",
    "protocol.barrier()\n",
    "protocol.draw('mpl')"
   ]
  },
  {
   "cell_type": "markdown",
   "id": "ef511db0",
   "metadata": {},
   "source": [
    "<div style=\"font-family: 'Arial'; font-size: 16px; line-height: 1.6; text-align: justify; color: #111; background-color: #fff8dc; padding: 15px; border-radius: 8px;\">   \n",
    "\n",
    "**Exercise 6: Alice’s Operations on Her Qubits**\n",
    "  \n",
    "Performing a Series of Operations on the Qubits Held by Alice, as Follows:\n",
    "1. Apply a CNOT gate, where the qubit to be transmitted serves as the control qubit, and the qubit entangled with Bob serves as the target qubit.\n",
    "2. Create quantum superposition on the qubit to be transmitted.\n",
    "</div>"
   ]
  },
  {
   "cell_type": "code",
   "execution_count": null,
   "id": "df4e1f55",
   "metadata": {},
   "outputs": [],
   "source": [
    "### WRITE YOUR CODE BELOW THIS CELL ###\n",
    "# Apply a CNOT gate\n",
    "\n",
    "# Apply a Hadamard gate\n",
    "\n",
    "### YOUR CODE FINISHES HERE ###\n",
    "\n",
    "protocol.barrier()\n",
    "protocol.measure(ebit0, a)\n",
    "protocol.measure(qubit, b)\n",
    "protocol.barrier()\n",
    "\n",
    "protocol.draw(\"mpl\")"
   ]
  },
  {
   "cell_type": "code",
   "execution_count": null,
   "id": "a3279bd3",
   "metadata": {},
   "outputs": [],
   "source": [
    "# Bob’s Operations Upon Receiving the Two Classical Bits from Alice\n",
    "with protocol.if_test((a, 1)):\n",
    "    protocol.x(ebit1)\n",
    "with protocol.if_test((b, 1)):\n",
    "    protocol.z(ebit1)\n",
    "\n",
    "protocol.barrier()\n",
    "protocol.draw(\"mpl\")"
   ]
  },
  {
   "cell_type": "markdown",
   "id": "15229cc3",
   "metadata": {},
   "source": [
    "<div style=\"font-family: 'Arial'; font-size: 16px; line-height: 1.6; text-align: justify;\">   \n",
    "\n",
    "Great! What we have described above is indeed their quantum communication protocol.\n",
    "We have now completed the design of the Quantum Teleportation protocol, enabling the transmission of a quantum state from one qubit to another through quantum entanglement and a classical communication channel.\n",
    "  \n",
    "To verify the correctness of our protocol, we can add another classical register to store the classical information extracted from Bob’s qubit, which—after the protocol—should be in the original state we intended to transmit prior to the protocol.\n",
    "</div>"
   ]
  },
  {
   "cell_type": "code",
   "execution_count": null,
   "id": "2c19e0d4",
   "metadata": {},
   "outputs": [],
   "source": [
    "# Create a classical register with 1 bit, named \"c\"\n",
    "c = ClassicalRegister(1, \"c\")\n",
    "# Add the classical register to the existing quantum circuit 'protocol'\n",
    "protocol.add_register(c)\n",
    "# Measure the qubit 'ebit1' and store the result in classical bit 'c'\n",
    "protocol.measure(ebit1, c)\n",
    "\n",
    "protocol.draw(\"mpl\")"
   ]
  },
  {
   "cell_type": "markdown",
   "id": "d7e63a46",
   "metadata": {},
   "source": [
    "<div style=\"font-family: 'Arial'; font-size: 16px; line-height: 1.6; text-align: justify;\">   \n",
    "\n",
    "The next step is to measure the quantum circuit to record the frequency of occurrence of each quantum state. If our expectations are correct, measuring this three-qubit system will yield a probability of $80\\%$ for the state where Bob’s qubit holds the value $0$, and $20\\%$ for the state where it holds the value $1$. \n",
    "  \n",
    "**Note**: When Qiskit returns the bitstring from the measurement, the bit order is reversed compared to the qubit order in the circuit. This means that if the measured bitstring is $101$, it actually corresponds to the measurement results of qubits $ebit_1$, $ebit_0$, and $Q$, stored in the classical registers c,b,a respectively.\n",
    "</div>"
   ]
  },
  {
   "cell_type": "code",
   "execution_count": null,
   "id": "9cfae566",
   "metadata": {},
   "outputs": [],
   "source": [
    "backend_simulator = AerSimulator()\n",
    "transpiled_protocol = transpile(protocol, backend_simulator) \n",
    "job = backend_simulator.run(transpiled_protocol, shots=1024)\n",
    "result = job.result()\n",
    "counts = result.get_counts()\n",
    "\n",
    "plot_histogram(counts, title='__The Frequency of Quantum States After the Protocol__')"
   ]
  },
  {
   "cell_type": "markdown",
   "id": "aa2c21ee",
   "metadata": {},
   "source": [
    "<div style=\"font-family: 'Arial'; font-size: 16px; line-height: 1.6; text-align: justify;\">   \n",
    "\n",
    "A brief explanation of the diagram above: The first four columns correspond to the bitstrings $000$, $001$, $010$, and $011$, where the first bit is always $0$—this represents the value of Bob’s qubit after measurement. Similarly, the next four columns show the other outcomes. This demonstrates that Bob’s qubit has an $80\\%$ probability of being measured in state $0$ and a $20\\%$ probability of being measured in state $1$.\n",
    "\n",
    "To gain a clearer insight, you can return to the section above and adjust the coefficients $\\alpha$ and $\\beta$. For an easy visualization, set **$alpha = np.sqrt(1.00)$** and  **$beta = np.sqrt(0.00)$** — this is equivalent to preparing (or sending) the $\\ket 0$ state, so we expect the resulting output to appear only in the first four columns.\n",
    "</div>"
   ]
  },
  {
   "cell_type": "markdown",
   "id": "b222ca7e",
   "metadata": {},
   "source": [
    "## **Congratulations!**\n"
   ]
  },
  {
   "cell_type": "markdown",
   "id": "4d794e7f",
   "metadata": {},
   "source": [
    "<div style=\"font-family: 'Arial'; font-size: 16px; line-height: 1.6; text-align: justify;\">   \n",
    "\n",
    "Congratulations on completing Lab 2 of the IO Quantum Summer School 2025!\n",
    "\n",
    "In this lab, we have truly implemented quantum entanglement on our qubits using Qiskit through examples of Bell states and GHZ states. Finally, we applied this quantum entanglement to Quantum Teleportation—a practical and particularly important application in Quantum Networks, Quantum Cryptography, and beyond.\n",
    "  \n",
    "In the next lab, we will move on to an incredibly exciting topic: quantum algorithms.\n",
    "</div>"
   ]
  },
  {
   "cell_type": "markdown",
   "id": "825b1efe",
   "metadata": {},
   "source": [
    "## **Additional information**\n",
    "\n",
    "\n"
   ]
  },
  {
   "cell_type": "markdown",
   "id": "4019f62d",
   "metadata": {},
   "source": [
    "<div style=\"font-family: 'Arial'; font-size: 16px; line-height: 1.6; text-align: justify;\">   \n",
    "\n",
    "**Created by**: An Phan\n",
    "  \n",
    "**Advised by**: Hoa Nguyen\n",
    "</div>"
   ]
  }
 ],
 "metadata": {
  "kernelspec": {
   "display_name": "venv",
   "language": "python",
   "name": "python3"
  },
  "language_info": {
   "codemirror_mode": {
    "name": "ipython",
    "version": 3
   },
   "file_extension": ".py",
   "mimetype": "text/x-python",
   "name": "python",
   "nbconvert_exporter": "python",
   "pygments_lexer": "ipython3",
   "version": "3.13.4"
  }
 },
 "nbformat": 4,
 "nbformat_minor": 5
}
