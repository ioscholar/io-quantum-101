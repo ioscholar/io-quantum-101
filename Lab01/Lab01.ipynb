{
 "cells": [
  {
   "cell_type": "markdown",
   "id": "6ee0ddae",
   "metadata": {},
   "source": [
    "![Welcome IO Quantum 101 Image](../images/WelcomeIOQuantum101Image.png)\n"
   ]
  },
  {
   "cell_type": "markdown",
   "id": "71b1b1ea",
   "metadata": {},
   "source": [
    "# **Lab 01 - Building \"Hello Quantum\" Programs with Qiskit**"
   ]
  },
  {
   "cell_type": "markdown",
   "id": "48447912",
   "metadata": {},
   "source": [
    "<div style=\"font-family: 'Arial'; font-size: 16px; line-height: 1.6; text-align: justify;\">  \n",
    "Welcome to the very first IO Quantum Summer School at IO Scholar Community 🙋🏻‍♂️.\n",
    "<br>\n",
    "  \n",
    "This program has been thoughtfully designed to provide you with a foundational understanding of Quantum Computing as a whole, with a particular focus on how to design and implement quantum algorithms and basic applications. Throughout the course, you will explore core principles of quantum computation, quantum algorithms, and the process of modeling real-world problems for quantum solutions.\n",
    "\n",
    "Each lab exercise in this program has been carefully developed to help you apply the concepts introduced in the reading materials and lectures provided through our academic community and online platform on Circle. These hands-on sessions aim to bridge theory and practice, ensuring that your learning experience is both comprehensive and grounded in real-world quantum programming.\n",
    "\n",
    "</div>"
   ]
  },
  {
   "cell_type": "markdown",
   "id": "08417839",
   "metadata": {},
   "source": [
    "## **Note Before You Begin**\n",
    "\n",
    "<div style=\"font-family: 'Arial'; font-size: 16px; line-height: 1.6; text-align: justify;\">   \n",
    "To ensure a smooth experience working through the labs of the IO Quantum Summer School, you will be provided with Jupyter notebook files—like the one you're currently viewing. These notebooks contain code cells that guide you through each step. Some of these cells are pre-filled with specific code; we kindly ask that you do not modify those predefined cells. Instead, you’ll be writing your own code in the designated areas, indicated with a comment like: <span style=\"font-family: monospace; font-weight: bold; color:#000; background-color: #fff8dc; padding: 2px 6px; border-radius: 4px;\">\n",
    "  ### WRITE YOUR CODE BELOW THIS CELL ###\n",
    "</span>.\n",
    "  \n",
    "One light-hearted but important note: if you restart the kernel, make sure to re-run all the code cells in order from top to bottom. Although most cells can be run multiple times, some—such as the ones for installing Qiskit—should generally be run only once. Just make sure that the cells above are always executed before the ones below.\n",
    "  \n",
    "On a related note, we would also like to mention the execution of quantum programs on IBM’s quantum hardware, which is accessible via their cloud platform. Unfortunately, due to regional restrictions, we are currently unable to legally access IBM’s cloud services from our location. As a result, we will be running quantum simulations locally, using the computational resources of your own laptop. No worries—this works perfectly well for the purposes of this lab!\n",
    "\n",
    "We hope this will be an exciting experience as you take your first steps into the world of quantum programming!\n",
    "\n",
    "**Lab 01** will primarily focus on setting up your local environment to ensure your quantum programs can run smoothly. Additionally, you'll be given an overview of how to build your very first quantum program. Finally, you'll experiment with Qiskit templates to construct a quantum circuit that generates a truly random number—your first hands-on encounter with quantum randomness!\n",
    "\n",
    "</div>"
   ]
  },
  {
   "cell_type": "markdown",
   "id": "2089c325",
   "metadata": {},
   "source": [
    "## **Install Qiskit**\n",
    "  \n",
    "<div style=\"font-family: 'Arial'; font-size: 16px; line-height: 1.6; text-align: justify;\">   \n",
    "Qiskit is an open-source software development kit for programming quantum computers, built on the Python programming language. Developed by IBM, Qiskit can be considered a high-level programming interface for constructing quantum programs. These programs are then compiled and executed on IBM's quantum hardware, which is accessible through their cloud platform. Additionally, Qiskit provides extensions that allow users to simulate quantum programs using classical computing resources. Additional resources can be found at <a href=\"https://quantum.cloud.ibm.com/docs/en/guides\" target=\"_blank\" style=\"color: #1d73e4ff; text-decoration: none; font-weight: bold;\"> IBM Quantum Documentation</a>.\n",
    "\n",
    "Make sure your laptop has Python installed. Next, we need to create a virtual environment, which separates your projects and quantum programs to avoid unnecessary conflicts. We recommend two ways to create a new virtual environment. You can find more details below:\n",
    "\n",
    "1. Using venv, see more information <a href=\"https://docs.python.org/3/library/venv.html\" target=\"_blank\" style=\"color: #1d73e4ff; text-decoration: none; font-weight: bold;\">here</a>. For example, to create the environment named `ioq` using venv, run `python -m venv ioq` in your terminal and the activate it by `source ioq/bin/activate`\n",
    "\n",
    "3. Using Conda, see more information <a href=\"https://docs.conda.io/projects/conda/en/latest/user-guide/install/index.html\" target=\"_blank\" style=\"color: #1d73e4ff; text-decoration: none; font-weight: bold;\">here</a>.\n",
    "</div>"
   ]
  },
  {
   "cell_type": "markdown",
   "id": "f78e9c79",
   "metadata": {},
   "source": [
    "<div style=\"font-family: 'Arial'; font-size: 16px; line-height: 1.6; text-align: justify;\">   \n",
    "\n",
    "Now, we will begin installing Qiskit along with other essential packages needed for quantum programming and data visualization.\n",
    "**Note**: The first time you run the following code blocks in VS Code, you may see a prompt similar to the one shown below. Simply click Install when prompted.\n",
    "\n",
    "<img src=\"../images/RunningCellwithVenv.png\" alt=\"VS Code install prompt example\" style=\"display: block; margin-left: auto; margin-right: auto; width: 15%; border: 1px solid #ccc; border-radius: 8px;\">\n",
    "</div>"
   ]
  },
  {
   "cell_type": "code",
   "execution_count": null,
   "id": "a2001bcd",
   "metadata": {},
   "outputs": [],
   "source": [
    "!pip install -r requirements.txt"
   ]
  },
  {
   "cell_type": "markdown",
   "id": "19a4c3da",
   "metadata": {},
   "source": [
    "<div style=\"font-family: 'Arial'; font-size: 16px; line-height: 1.6; text-align: justify;\">   \n",
    "To verify that Qiskit has been installed successfully, you can check the currently installed version of Qiskit.\n",
    "</div>"
   ]
  },
  {
   "cell_type": "code",
   "execution_count": null,
   "id": "993dbfdb",
   "metadata": {},
   "outputs": [],
   "source": [
    "import qiskit\n",
    "print(f\"Qiskit version: {qiskit.__version__}\")"
   ]
  },
  {
   "cell_type": "markdown",
   "id": "8f695e54",
   "metadata": {},
   "source": [
    "<div style=\"font-family: 'Arial'; font-size: 16px; line-height: 1.6; text-align: justify;\">   \n",
    "\n",
    "Next, an important step we need to take is to prepare everything for the **quantum simulator**, which we’ll be using throughout the lab sessions of the IO Quantum Summer School. A special feature of the simulators in this program is that they realistically emulate the current quantum devices provided by IBM Quantum. This means our simulators include **noise** and **errors**, which makes them very useful for running quantum programs through simulation. Below, I’ve provided a sample code snippet to help you set up the simulator properly.\n",
    "\n",
    "</div>"
   ]
  },
  {
   "cell_type": "code",
   "execution_count": null,
   "id": "c4863c38",
   "metadata": {},
   "outputs": [],
   "source": [
    "# Import some necessary libraries for the quantum simulator\n",
    "import qiskit\n",
    "from qiskit_aer import AerSimulator\n",
    "from qiskit_ibm_runtime.fake_provider import FakeHanoiV2"
   ]
  },
  {
   "cell_type": "code",
   "execution_count": null,
   "id": "bc6d1ca8",
   "metadata": {},
   "outputs": [],
   "source": [
    "fake_backend = FakeHanoiV2()\n",
    "# Quantum simulation backend for noise simulation\n",
    "backend_simulator = AerSimulator.from_backend(fake_backend)"
   ]
  },
  {
   "cell_type": "markdown",
   "id": "c6927ae4",
   "metadata": {},
   "source": [
    "## **First Quantum Program: Introduction to Single-Qubit Gates**\n"
   ]
  },
  {
   "cell_type": "code",
   "execution_count": null,
   "id": "010439d1",
   "metadata": {},
   "outputs": [],
   "source": [
    "# Import some necessary libraries (already included the ones above).\n",
    "from qiskit import QuantumCircuit, QuantumRegister, ClassicalRegister, transpile\n",
    "from qiskit.visualization import plot_histogram"
   ]
  },
  {
   "cell_type": "markdown",
   "id": "68d23567",
   "metadata": {},
   "source": [
    "<div style=\"font-family: 'Arial'; font-size: 16px; line-height: 1.6; text-align: justify;\">   \n",
    "\n",
    "At this point, everything is ready for our first quantum program. In this section, we will demonstrate the application of several quantum gates on a single-qubit system and observe the state of the quantum circuit after performing measurement.\n",
    "\n",
    "Note: In Qiskit, by default, qubits are initialized in the state 0\n",
    "\n",
    "Recall that applying a quantum gate to a qubit is mathematically represented as multiplying a matrix by a vector. This can be expressed as follows:\n",
    "    <div style=\"text-align: center;\"> \n",
    "    $X \\ket 0 = \\ket 1$,  $\\space$  where $X = \\begin{bmatrix} 0 & 1 \\\\ 1 & 0 \\end{bmatrix}$\n",
    "    </div>\n",
    "\n",
    "Below is a sample program provided to give an overview of how a quantum program actually works, specifically to illustrate the application of a quantum gate—in this case, the NOT gate (or X-gate)—to a qubit initially in the $\\ket 0$ state.\n",
    "\n",
    "\n",
    "</div>"
   ]
  },
  {
   "cell_type": "code",
   "execution_count": null,
   "id": "08d7cb53",
   "metadata": {},
   "outputs": [],
   "source": [
    "# Creating quantum registers, classical registers and quantum circuit\n",
    "Quantum_Register = QuantumRegister(1, 'Qubit') \n",
    "Classical_Register = ClassicalRegister(1, 'Classical Bit') \n",
    "qc = QuantumCircuit(Quantum_Register, Classical_Register)\n",
    "\n",
    "# Applying an X gate to a qubit to alter its state\n",
    "qc.x(Quantum_Register[0])\n",
    "qc.measure(Quantum_Register[0], Classical_Register[0])\n",
    "\n",
    "qc.draw(\"mpl\")"
   ]
  },
  {
   "cell_type": "code",
   "execution_count": null,
   "id": "37ca9968",
   "metadata": {},
   "outputs": [],
   "source": [
    "# RUN THE QUANTUM CIRCUIT ON A NOISELESS SIMULATION BACKEND\n",
    "\n",
    "# Initialize the quantum backend simulator\n",
    "backend_simulator = AerSimulator()\n",
    "\n",
    "# Compiling an abstract-level quantum circuit into a form compatible with quantum hardware\n",
    "transpiled_qc = transpile(qc, backend_simulator)\n",
    "\n",
    "# Running the transpiled circuit on the simulator backend\n",
    "result_x = backend_simulator.run(transpiled_qc, shots=1024).result()\n",
    "\n",
    "# Collecting output data after simulating the quantum circuit\n",
    "counts = result_x.get_counts()\n",
    "\n",
    "plot_histogram(counts, title='Measurement counts after applying H gate to |0⟩ state (ideal, no noise)')"
   ]
  },
  {
   "cell_type": "code",
   "execution_count": null,
   "id": "8ba733f6",
   "metadata": {},
   "outputs": [],
   "source": [
    "# RUN THE QUANTUM CIRCUIT ON A NOISY SIMULATED BACKEND\n",
    "\n",
    "# Initialize the quantum backend simulator\n",
    "fake_backend = FakeHanoiV2()\n",
    "backend_simulator = AerSimulator.from_backend(fake_backend)\n",
    "\n",
    "# Compiling an abstract-level quantum circuit into a form compatible with quantum hardware\n",
    "transpiled_qc_noisy = transpile(qc, backend_simulator)\n",
    "\n",
    "# Running the transpiled circuit on the simulator backend\n",
    "result_x = backend_simulator.run(transpiled_qc_noisy, shots=1024).result()\n",
    "\n",
    "# Collecting output data after simulating the quantum circuit\n",
    "counts = result_x.get_counts()\n",
    "\n",
    "plot_histogram(counts, title='Measurement counts after applying X gate to |0⟩ state (with noise)')"
   ]
  },
  {
   "cell_type": "markdown",
   "id": "f3c2cbbe",
   "metadata": {},
   "source": [
    "<div style=\"font-family: 'Arial'; font-size: 16px; line-height: 1.6; text-align: justify;\">   \n",
    "\n",
    "It is encouraging to obtain such results. As we can observe from the two charts, the ideal (noise-free) simulation yields, after $1024$ measurements, exactly $1024$ outcomes of one. Unfortunately, current quantum hardware is still imperfect, with a certain rate of errors and noise. Consequently, in the noisy simulation, we can observe the appearance of a few zero outcomes in the chart. Nevertheless, the results from both charts demonstrate that the quantum state has been transformed from $\\ket 0$ to $\\ket 1$.\n",
    "</div>"
   ]
  },
  {
   "cell_type": "markdown",
   "id": "8802ef4f",
   "metadata": {},
   "source": [
    "## **Quantum Approach to Generating Truly Random Integers**"
   ]
  },
  {
   "cell_type": "markdown",
   "id": "f6be2584",
   "metadata": {},
   "source": [
    "<div style=\"font-family: 'Arial'; font-size: 16px; line-height: 1.6; text-align: justify; color: #000; background-color: #fff8dc; padding: 15px; border-radius: 8px;\">   \n",
    "\n",
    "Problem Statement:\n",
    "Develop a hybrid quantum-classical program to generate a truly random integer. The integer should be uniformly distributed within the range $[0,2^n−1]$, where $n$ represents the number of bits.\n",
    "\n",
    "**Requirements:**\n",
    "\n",
    "- The program must leverage quantum principles to ensure true randomness, as opposed to pseudo-random generation.\n",
    "\n",
    "- The output should be an integer strictly less than $2^n$\n",
    "\n",
    "**Input:**          \n",
    "- $n$ (int): The number of bits used to represent the random integer.\n",
    "\n",
    "**Output:**  \n",
    "- An integer in the range $[0,2^n−1]$, generated through a quantum process.\n",
    "</div>"
   ]
  },
  {
   "cell_type": "markdown",
   "id": "ad4b4fb7",
   "metadata": {},
   "source": [
    "<div style=\"font-family: 'Arial'; font-size: 16px; line-height: 1.6; text-align: justify;\">   \n",
    "\n",
    "The main idea of this program is to **leverage the quantum superposition** of a qubit and the **intrinsic randomness of quantum mechanics** to create a program that generates truly random numbers. This concept can be illustrated as follows:\n",
    "</div>"
   ]
  },
  {
   "cell_type": "markdown",
   "id": "9083bb94",
   "metadata": {},
   "source": [
    "<img src=\"../images/SolutionRandomNumber.png\" alt=\"VS Code install prompt example\" style=\"display: block; margin-left: auto; margin-right: auto; width: 65%; border: 1px solid #ccc; border-radius: 8px;\">"
   ]
  },
  {
   "cell_type": "markdown",
   "id": "fb78828b",
   "metadata": {},
   "source": [
    "<div style=\"font-family: 'Arial'; font-size: 16px; line-height: 1.6; text-align: justify;\">   \n",
    "\n",
    "**The four steps when applying a quantum approach to solve a specific problem are as follows:**\n",
    "\n",
    "1. Map the problem to quantum circuits and operators\n",
    "\n",
    "2. Optimize for the target hardware\n",
    "\n",
    "3. Execute on the target hardware\n",
    "\n",
    "4. Post-process the results\n",
    "</div>"
   ]
  },
  {
   "cell_type": "markdown",
   "id": "8e5ede5d",
   "metadata": {},
   "source": [
    "### **Step 1 - Map the problem to quantum circuits and operators**"
   ]
  },
  {
   "cell_type": "markdown",
   "id": "d7d71626",
   "metadata": {},
   "source": [
    "<div style=\"font-family: 'Arial'; font-size: 16px; line-height: 1.6; text-align: justify;\">   \n",
    "\n",
    "As has been approached with this, quantum superposition is simply understood as the simultaneous existence of two states, $0$ and $1$, at the same time, which is expressed mathematically as follows: $\\ket \\psi = \\alpha \\ket 0 + \\beta \\ket 1$. In quantum mechanics in general, and in quantum computing in particular, the creation of quantum superposition can be readily achieved by applying the **Hadamard Gate**, which is mathematically represented as follows:\n",
    "    <div style=\"text-align: center;\"> \n",
    "    $H = \\frac{1}{\\sqrt{2}} \\begin{bmatrix} 1 & 1 \\\\ 1 & -1 \\end{bmatrix}$\n",
    "    </div>\n",
    "\n",
    "The quantum superposition state obtained after applying a Hadamard gate to a qubit initially in the $\\ket 0$ state is called ket-plus $\\ket \\psi$ and is mathematically represented as follows:\n",
    "    <div style=\"text-align: center; font-size: 19px;\"> \n",
    "    $\\ket + = \\frac{\\ket 0 + \\ket 1}{\\sqrt{2}} $\n",
    "    </div>\n",
    "\n",
    "</div>"
   ]
  },
  {
   "cell_type": "markdown",
   "id": "2a5110bc",
   "metadata": {},
   "source": [
    "<div style=\"font-family: 'Arial'; font-size: 16px; line-height: 1.6; text-align: justify; color: #000; background-color: #fff8dc; padding: 15px; border-radius: 8px;\">   \n",
    "\n",
    "**Exercise 1: Design a Superposition state**\n",
    "  \n",
    "In this exercise, you will design a quantum superposition state by following these steps:\n",
    "1. **Create a quantum circuit** with quantum registers initialized to their default state.\n",
    "2. **Apply the Hadamard gate** to the first qubit.\n",
    "3. **Apply a Measurement operation** on that same qubit.\n",
    "\n",
    "</div>"
   ]
  },
  {
   "cell_type": "code",
   "execution_count": null,
   "id": "5bb34c92",
   "metadata": {},
   "outputs": [
    {
     "data": {
      "image/png": "[encoded data removed]",
      "text/plain": [
       "<Figure size 425.293x200.667 with 1 Axes>"
      ]
     },
     "execution_count": 64,
     "metadata": {},
     "output_type": "execute_result"
    }
   ],
   "source": [
    "QReg = QuantumRegister(1, '0') \n",
    "CReg = ClassicalRegister(1, 'Classical Bit') \n",
    "\n",
    "### WRITE YOUR CODE BELOW THIS CELL ###\n",
    "# Create a quantum circuit with the quantum and classical registers\n",
    "qc = \n",
    "# Apply the Hadamard gate to create superposition\n",
    "\n",
    "# Measure the qubit and store the result in the classical register\n",
    "\n",
    "\n",
    "### YOUR CODE FINISHES HERE ###\n",
    "\n",
    "qc.draw(\"mpl\")"
   ]
  },
  {
   "cell_type": "markdown",
   "id": "c0b93ad5",
   "metadata": {},
   "source": [
    "### **Step 2 - Optimize for the target hardware**"
   ]
  },
  {
   "cell_type": "markdown",
   "id": "b31d4c3a",
   "metadata": {},
   "source": [
    "<div style=\"font-family: 'Arial'; font-size: 16px; line-height: 1.6; text-align: justify;\">   \n",
    "\n",
    "After designing our quantum circuit, it works as expected!\n",
    "\n",
    "The next step is to compile the quantum circuit into a form that can run efficiently on actual quantum hardware. The circuit we designed above is an abstract representation, and real quantum hardware sometimes does not support certain gates present in our design (for example, the Hadamard gate). Therefore, it is necessary to perform circuit compilation, which maps the abstract circuit to an equivalent one using only the gates supported by the target hardware.\n",
    "</div>"
   ]
  },
  {
   "cell_type": "markdown",
   "id": "8d469041",
   "metadata": {},
   "source": [
    "<div style=\"font-family: 'Arial'; font-size: 16px; line-height: 1.6; text-align: justify; color: #000; background-color: #fff8dc; padding: 15px; border-radius: 8px;\">   \n",
    "\n",
    "**Exercise 2: Quantum Circuit Compilation**\n",
    "  \n",
    "In this exercise, you need to initialize the quantum simulator and compile the corresponding circuit by following these steps:\n",
    "1. Create the quantum backend simulator\n",
    "2. Compile the quantum circuit for the corresponding quantum hardware\n",
    "</div>"
   ]
  },
  {
   "cell_type": "code",
   "execution_count": null,
   "id": "987bb35d",
   "metadata": {},
   "outputs": [
    {
     "data": {
      "image/png": "[encoded data removed]",
      "text/plain": [
       "<Figure size 592.515x200.667 with 1 Axes>"
      ]
     },
     "execution_count": 65,
     "metadata": {},
     "output_type": "execute_result"
    }
   ],
   "source": [
    "fake_backend_HaNoi = FakeHanoiV2()\n",
    "\n",
    "### WRITE YOUR CODE BELOW THIS CELL ###\n",
    "# Initialize the simulator backend using the fake backend\n",
    "backend = \n",
    "# Compile the quantum circuit to be compatible with the hardware\n",
    "transpiled_qc = \n",
    "### YOUR CODE FINISHES HERE ###\n",
    "\n",
    "transpiled_qc.draw(\"mpl\")"
   ]
  },
  {
   "cell_type": "markdown",
   "id": "5cbfc334",
   "metadata": {},
   "source": [
    "<div style=\"font-family: 'Arial'; font-size: 16px; line-height: 1.6; text-align: justify;\">   \n",
    "\n",
    "Here, you can see that after compiling the circuit, the Hadamard gate has been decomposed into a set of quantum gates that are supported by the quantum hardware. Another point to note is that the qubit in our circuit is now mapped to qubit $112$ on the actual quantum hardware.\n",
    "</div>"
   ]
  },
  {
   "cell_type": "markdown",
   "id": "365c86c0",
   "metadata": {},
   "source": [
    "### **Step 3 - Execute on the target hardware**"
   ]
  },
  {
   "cell_type": "markdown",
   "id": "d8de7690",
   "metadata": {},
   "source": [
    "<div style=\"font-family: 'Arial'; font-size: 16px; line-height: 1.6; text-align: justify;\">   \n",
    "\n",
    "After creating the quantum circuit, preparing the quantum simulator, and compiling the circuit to optimize it for the target quantum hardware, the next step is to execute the quantum circuit and extract classical information from it.\n",
    "</div>"
   ]
  },
  {
   "cell_type": "code",
   "execution_count": 66,
   "id": "f264a9ae",
   "metadata": {},
   "outputs": [
    {
     "name": "stdout",
     "output_type": "stream",
     "text": [
      "The result obtained after executing the quantum circuit: 1\n"
     ]
    }
   ],
   "source": [
    "def quantum_exec(transpiled_qc, backend, shots=1):\n",
    "    \"\"\"\n",
    "    Executes a quantum circuit and returns a single random measurement outcome (0 or 1).\n",
    "\n",
    "    The function simulates the collapse of a qubit into one of the basis states using\n",
    "    the specified backend. It runs the quantum circuit, retrieves execution results,\n",
    "    and extracts one outcome from the measurement memory.\n",
    "\n",
    "    Steps:\n",
    "        - .run(): Executes the quantum circuit on the specified backend.\n",
    "        - .result(): Retrieves the result object containing the execution outcome.\n",
    "        - .get_memory(): Returns a list of bitstrings from all shots.\n",
    "\n",
    "    Returns:\n",
    "        int: A single integer value (0 or 1) obtained from the measurement.\n",
    "    \"\"\"\n",
    "    # Execute the compiled quantum circuit on the quantum backend and store the result\n",
    "    job = backend.run(transpiled_qc, shots=shots, memory = True)\n",
    "    # Get the results\n",
    "    result = job.result()\n",
    "    # get_memory(): Returns a list of bitstrings from executions, for example: ['0', '1', '0', '1', '0', ...] # 1,024 elements.\n",
    "    random_number = result.get_memory()\n",
    "    return int(random_number[0])\n",
    "\n",
    "print(f\"The result obtained after executing the quantum circuit: {quantum_exec(transpiled_qc, backend)}\")"
   ]
  },
  {
   "cell_type": "markdown",
   "id": "8ef0b7da",
   "metadata": {},
   "source": [
    "### **Step 4 - Post-process the results**"
   ]
  },
  {
   "cell_type": "markdown",
   "id": "300598b2",
   "metadata": {},
   "source": [
    "<div style=\"font-family: 'Arial'; font-size: 16px; line-height: 1.6; text-align: justify;\">   \n",
    "\n",
    "The final step is to process the classical information obtained from the execution of the quantum circuit. According to the problem requirements, we need to generate a truly random number with a maximum possible value of $2^n$ , where $n$ represents the number of bits.\n",
    "</div>"
   ]
  },
  {
   "cell_type": "code",
   "execution_count": null,
   "id": "e0993d24",
   "metadata": {},
   "outputs": [],
   "source": [
    "def classical_process(n):\n",
    "    \"\"\"\n",
    "    Generates a quantum random integer by collecting n bits from quantum measurements.\n",
    "\n",
    "    Args:\n",
    "        n (int): The number of bits to generate.\n",
    "\n",
    "    Returns:\n",
    "        int: An integer converted from the n-bit random bitstring.\n",
    "    \"\"\"\n",
    "    bitstring = \"\"\n",
    "    # Repeat the call to quantum_exec() n times to construct a random bitstring from individual random values\n",
    "    for _ in range(n):\n",
    "        bit = quantum_exec(transpiled_qc, backend) \n",
    "        bitstring += str(bit)\n",
    "    return int(bitstring, 2)"
   ]
  },
  {
   "cell_type": "code",
   "execution_count": 80,
   "id": "8ebea146",
   "metadata": {},
   "outputs": [
    {
     "name": "stdout",
     "output_type": "stream",
     "text": [
      "A quantum random number with 10 bits: 928\n"
     ]
    }
   ],
   "source": [
    "n = 10  # Number of bits to generate\n",
    "print(f\"A quantum random number with {n} bits: {classical_process(n)}\")"
   ]
  },
  {
   "cell_type": "markdown",
   "id": "b222ca7e",
   "metadata": {},
   "source": [
    "## **Congratulations!**\n"
   ]
  },
  {
   "cell_type": "markdown",
   "id": "4d794e7f",
   "metadata": {},
   "source": [
    "<div style=\"font-family: 'Arial'; font-size: 16px; line-height: 1.6; text-align: justify;\">   \n",
    "\n",
    "Congratulations on completing the first lab of the IO Quantum Summer School 2025!\n",
    "\n",
    "In this lab, we successfully laid a foundation for the upcoming quantum programs. We set up the environment, installed Qiskit and the necessary packages, and explored how a real quantum program operates by designing a hybrid quantum-classical program to generate a truly random number.\n",
    "\n",
    "Next, we will move on to Lab 2: Multi-Qubit Circuits and Entanglement in Action.\n",
    "</div>"
   ]
  },
  {
   "cell_type": "markdown",
   "id": "825b1efe",
   "metadata": {},
   "source": [
    "## **Additional information**\n",
    "\n",
    "\n"
   ]
  },
  {
   "cell_type": "markdown",
   "id": "4019f62d",
   "metadata": {},
   "source": [
    "<div style=\"font-family: 'Arial'; font-size: 16px; line-height: 1.6; text-align: justify;\">   \n",
    "\n",
    "**Created by**: An Phan\n",
    "  \n",
    "**Advised by**: Hoa Nguyen\n",
    "</div>"
   ]
  }
 ],
 "metadata": {
  "kernelspec": {
   "display_name": "ioq",
   "language": "python",
   "name": "python3"
  },
  "language_info": {
   "codemirror_mode": {
    "name": "ipython",
    "version": 3
   },
   "file_extension": ".py",
   "mimetype": "text/x-python",
   "name": "python",
   "nbconvert_exporter": "python",
   "pygments_lexer": "ipython3",
   "version": "3.13.5"
  }
 },
 "nbformat": 4,
 "nbformat_minor": 5
}
